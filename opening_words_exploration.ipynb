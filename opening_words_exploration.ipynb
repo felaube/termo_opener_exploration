{
 "cells": [
  {
   "cell_type": "code",
   "execution_count": 93,
   "metadata": {},
   "outputs": [],
   "source": [
    "import pandas as pd\n",
    "from words_dataset_treatment import treat_dataset\n",
    "from collections import Counter\n",
    "from string import ascii_lowercase\n",
    "\n",
    "from IPython.core.interactiveshell import InteractiveShell"
   ]
  },
  {
   "cell_type": "code",
   "execution_count": 94,
   "metadata": {},
   "outputs": [
    {
     "data": {
      "text/html": [
       "<div>\n",
       "<style scoped>\n",
       "    .dataframe tbody tr th:only-of-type {\n",
       "        vertical-align: middle;\n",
       "    }\n",
       "\n",
       "    .dataframe tbody tr th {\n",
       "        vertical-align: top;\n",
       "    }\n",
       "\n",
       "    .dataframe thead th {\n",
       "        text-align: right;\n",
       "    }\n",
       "</style>\n",
       "<table border=\"1\" class=\"dataframe\">\n",
       "  <thead>\n",
       "    <tr style=\"text-align: right;\">\n",
       "      <th></th>\n",
       "      <th>words</th>\n",
       "    </tr>\n",
       "  </thead>\n",
       "  <tbody>\n",
       "    <tr>\n",
       "      <th>0</th>\n",
       "      <td>a</td>\n",
       "    </tr>\n",
       "    <tr>\n",
       "      <th>1</th>\n",
       "      <td>ª</td>\n",
       "    </tr>\n",
       "    <tr>\n",
       "      <th>2</th>\n",
       "      <td>à</td>\n",
       "    </tr>\n",
       "    <tr>\n",
       "      <th>3</th>\n",
       "      <td>á</td>\n",
       "    </tr>\n",
       "    <tr>\n",
       "      <th>4</th>\n",
       "      <td>ã</td>\n",
       "    </tr>\n",
       "  </tbody>\n",
       "</table>\n",
       "</div>"
      ],
      "text/plain": [
       "  words\n",
       "0     a\n",
       "1     ª\n",
       "2     à\n",
       "3     á\n",
       "4     ã"
      ]
     },
     "execution_count": 94,
     "metadata": {},
     "output_type": "execute_result"
    }
   ],
   "source": [
    "# Import words dataset\n",
    "words_dataset = pd.read_csv(\"resources\\\\palavras_python_br.txt\", header=None, names=[\"words\"])\n",
    "words_dataset.head()"
   ]
  },
  {
   "cell_type": "code",
   "execution_count": 95,
   "metadata": {},
   "outputs": [
    {
     "data": {
      "text/html": [
       "<div>\n",
       "<style scoped>\n",
       "    .dataframe tbody tr th:only-of-type {\n",
       "        vertical-align: middle;\n",
       "    }\n",
       "\n",
       "    .dataframe tbody tr th {\n",
       "        vertical-align: top;\n",
       "    }\n",
       "\n",
       "    .dataframe thead th {\n",
       "        text-align: right;\n",
       "    }\n",
       "</style>\n",
       "<table border=\"1\" class=\"dataframe\">\n",
       "  <thead>\n",
       "    <tr style=\"text-align: right;\">\n",
       "      <th></th>\n",
       "      <th>words</th>\n",
       "    </tr>\n",
       "  </thead>\n",
       "  <tbody>\n",
       "    <tr>\n",
       "      <th>18</th>\n",
       "      <td>aaiun</td>\n",
       "    </tr>\n",
       "    <tr>\n",
       "      <th>25</th>\n",
       "      <td>aarao</td>\n",
       "    </tr>\n",
       "    <tr>\n",
       "      <th>57</th>\n",
       "      <td>ababa</td>\n",
       "    </tr>\n",
       "    <tr>\n",
       "      <th>64</th>\n",
       "      <td>ababe</td>\n",
       "    </tr>\n",
       "    <tr>\n",
       "      <th>77</th>\n",
       "      <td>abaca</td>\n",
       "    </tr>\n",
       "  </tbody>\n",
       "</table>\n",
       "</div>"
      ],
      "text/plain": [
       "    words\n",
       "18  aaiun\n",
       "25  aarao\n",
       "57  ababa\n",
       "64  ababe\n",
       "77  abaca"
      ]
     },
     "execution_count": 95,
     "metadata": {},
     "output_type": "execute_result"
    }
   ],
   "source": [
    "# Treat dataset\n",
    "words_dataset = treat_dataset(words_dataset)\n",
    "\n",
    "# Preview dataset\n",
    "words_dataset.head()"
   ]
  },
  {
   "cell_type": "code",
   "execution_count": 96,
   "metadata": {},
   "outputs": [
    {
     "name": "stdout",
     "output_type": "stream",
     "text": [
      "Number of words in the dataset: 9974\n"
     ]
    }
   ],
   "source": [
    "# Display size of the dataset\n",
    "number_of_words = len(words_dataset)\n",
    "print(f\"Number of words in the dataset: {number_of_words}\")"
   ]
  },
  {
   "cell_type": "code",
   "execution_count": 97,
   "metadata": {},
   "outputs": [
    {
     "data": {
      "text/html": [
       "<div>\n",
       "<style scoped>\n",
       "    .dataframe tbody tr th:only-of-type {\n",
       "        vertical-align: middle;\n",
       "    }\n",
       "\n",
       "    .dataframe tbody tr th {\n",
       "        vertical-align: top;\n",
       "    }\n",
       "\n",
       "    .dataframe thead th {\n",
       "        text-align: right;\n",
       "    }\n",
       "</style>\n",
       "<table border=\"1\" class=\"dataframe\">\n",
       "  <thead>\n",
       "    <tr style=\"text-align: right;\">\n",
       "      <th></th>\n",
       "      <th>words</th>\n",
       "    </tr>\n",
       "  </thead>\n",
       "  <tbody>\n",
       "  </tbody>\n",
       "</table>\n",
       "</div>"
      ],
      "text/plain": [
       "Empty DataFrame\n",
       "Columns: [words]\n",
       "Index: []"
      ]
     },
     "execution_count": 97,
     "metadata": {},
     "output_type": "execute_result"
    }
   ],
   "source": [
    "words_dataset[words_dataset['words'].str.contains('ª', regex = False)]"
   ]
  },
  {
   "cell_type": "code",
   "execution_count": 98,
   "metadata": {},
   "outputs": [
    {
     "name": "stdout",
     "output_type": "stream",
     "text": [
      "a    6132\n",
      "o    4399\n",
      "i    4048\n",
      "e    3505\n",
      "r    3210\n",
      "u    2532\n",
      "l    2444\n",
      "c    2137\n",
      "s    2106\n",
      "m    2002\n",
      "n    1902\n",
      "t    1744\n",
      "b    1361\n",
      "d    1268\n",
      "p    1244\n",
      "g    1099\n",
      "v     759\n",
      "f     725\n",
      "h     571\n",
      "x     556\n",
      "j     468\n",
      "z     416\n",
      "q     148\n",
      "y      27\n",
      "k      23\n",
      "w       8\n"
     ]
    }
   ],
   "source": [
    "# Count the number of words in which each letter appears at least once\n",
    "occurence_of_letter_at_least_once = {letter: 0 for letter in ascii_lowercase}\n",
    "occurence_of_letter_at_least_once = pd.Series(occurence_of_letter_at_least_once)\n",
    "\n",
    "for letter in occurence_of_letter_at_least_once.index:\n",
    "    for word in words_dataset['words']:\n",
    "        if letter in word:\n",
    "            occurence_of_letter_at_least_once[letter] += 1\n",
    "\n",
    "occurence_of_letter_at_least_once.sort_values(ascending=False, inplace=True)\n",
    "print(occurence_of_letter_at_least_once.to_string())"
   ]
  },
  {
   "cell_type": "code",
   "execution_count": 100,
   "metadata": {},
   "outputs": [
    {
     "name": "stdout",
     "output_type": "stream",
     "text": [
      "      a    b    c    d     e    f    g    h     i    j   k    l    m    n     o    p     q    r    s    t     u    v    w    x   y    z\n",
      "0  1022  635  949  375   318  437  402  243   336  257  12  475  880  364   285  719  64.0  395  553  600   202  269  3.0   75   2  102\n",
      "1  2098  134  277  168  1262   53   93  107  1275   26   1  385  172  242  1351   96  12.0  607  131  131  1136   66  2.0  101   5   43\n",
      "2   841  336  606  351   535  163  362   39   908   93   2  730  461  853   408  250  72.0  971  452  505   516  189  2.0  223   8   98\n",
      "3  1696  324  506  392   804   80  261  179  1309   93   6  373  294  406   674  210   0.0  623  286  576   486  168  1.0  162   2   63\n",
      "4  2257    8   17   12  1100    6    7    5   671    5   3  556  335  108  2380   13   0.0  863  904   19   378   85  0.0  117  10  115\n"
     ]
    },
    {
     "name": "stderr",
     "output_type": "stream",
     "text": [
      "C:\\Users\\ferna\\AppData\\Local\\Temp\\ipykernel_13924\\384692607.py:2: FutureWarning: Columnar iteration over characters will be deprecated in future releases.\n",
      "  occurence_of_letters_in_each_position = pd.DataFrame([Counter(word) for word in words_dataset['words'].str]).fillna(0)\n"
     ]
    }
   ],
   "source": [
    "# Count the occurences of each letter for each position in the words \n",
    "occurence_of_letters_in_each_position = pd.DataFrame([Counter(word) for word in words_dataset['words'].str]).fillna(0)\n",
    "\n",
    "print(occurence_of_letters_in_each_position.to_string())\n"
   ]
  },
  {
   "cell_type": "code",
   "execution_count": 101,
   "metadata": {},
   "outputs": [
    {
     "name": "stdout",
     "output_type": "stream",
     "text": [
      "      a    b    c    d     e    f    g    h     i    j    k    l    m    n     o    p    q    r    s    t     u    v    w    x    y    z\n",
      "0  10.2  6.4  9.5  3.8   3.2  4.4  4.0  2.4   3.4  2.6  0.1  4.8  8.8  3.6   2.9  7.2  0.6  4.0  5.5  6.0   2.0  2.7  0.0  0.8  0.0  1.0\n",
      "1  21.0  1.3  2.8  1.7  12.7  0.5  0.9  1.1  12.8  0.3  0.0  3.9  1.7  2.4  13.5  1.0  0.1  6.1  1.3  1.3  11.4  0.7  0.0  1.0  0.1  0.4\n",
      "2   8.4  3.4  6.1  3.5   5.4  1.6  3.6  0.4   9.1  0.9  0.0  7.3  4.6  8.6   4.1  2.5  0.7  9.7  4.5  5.1   5.2  1.9  0.0  2.2  0.1  1.0\n",
      "3  17.0  3.2  5.1  3.9   8.1  0.8  2.6  1.8  13.1  0.9  0.1  3.7  2.9  4.1   6.8  2.1  0.0  6.2  2.9  5.8   4.9  1.7  0.0  1.6  0.0  0.6\n",
      "4  22.6  0.1  0.2  0.1  11.0  0.1  0.1  0.1   6.7  0.1  0.0  5.6  3.4  1.1  23.9  0.1  0.0  8.7  9.1  0.2   3.8  0.9  0.0  1.2  0.1  1.2\n"
     ]
    }
   ],
   "source": [
    "percentage_occurence_of_letters_in_each_position = round(occurence_of_letters_in_each_position/number_of_words*100, 1)\n",
    "\n",
    "print(percentage_occurence_of_letters_in_each_position.to_string())"
   ]
  },
  {
   "cell_type": "code",
   "execution_count": 102,
   "metadata": {},
   "outputs": [
    {
     "name": "stdout",
     "output_type": "stream",
     "text": [
      "a    7914.0\n",
      "o    5098.0\n",
      "i    4499.0\n",
      "e    4019.0\n",
      "r    3459.0\n",
      "u    2718.0\n",
      "l    2519.0\n",
      "c    2355.0\n",
      "s    2326.0\n",
      "m    2142.0\n",
      "n    1973.0\n",
      "t    1831.0\n",
      "b    1437.0\n",
      "d    1298.0\n",
      "p    1288.0\n",
      "g    1125.0\n",
      "v     777.0\n",
      "f     739.0\n",
      "x     678.0\n",
      "h     573.0\n",
      "j     474.0\n",
      "z     421.0\n",
      "q     148.0\n",
      "y      27.0\n",
      "k      24.0\n",
      "w       8.0\n"
     ]
    }
   ],
   "source": [
    "# Count the occurences of each letter in the words \n",
    "occurence_of_letters = occurence_of_letters_in_each_position.sum(axis='index')\n",
    "occurence_of_letters.sort_values(ascending=False, inplace=True)\n",
    "\n",
    "print(occurence_of_letters.to_string())"
   ]
  },
  {
   "cell_type": "code",
   "execution_count": 103,
   "metadata": {},
   "outputs": [
    {
     "name": "stdout",
     "output_type": "stream",
     "text": [
      "['euria', 'ureia']\n"
     ]
    }
   ],
   "source": [
    "possible_words = []\n",
    "desired_letters = ['r', 'e', 'i', 'u', 'a']\n",
    "for word in words_dataset['words']:\n",
    "    word_is_accepted = True\n",
    "    for letter in desired_letters:\n",
    "        if letter not in word:\n",
    "            word_is_accepted = False\n",
    "    \n",
    "    if word_is_accepted:    \n",
    "        possible_words.append(word)\n",
    "\n",
    "print(possible_words)        "
   ]
  }
 ],
 "metadata": {
  "kernelspec": {
   "display_name": "Python 3.10.5 ('venv': venv)",
   "language": "python",
   "name": "python3"
  },
  "language_info": {
   "codemirror_mode": {
    "name": "ipython",
    "version": 3
   },
   "file_extension": ".py",
   "mimetype": "text/x-python",
   "name": "python",
   "nbconvert_exporter": "python",
   "pygments_lexer": "ipython3",
   "version": "3.10.5"
  },
  "orig_nbformat": 4,
  "vscode": {
   "interpreter": {
    "hash": "8f7ffee19bf5300c44873e3368c5a216efee5f3b4a7497e7132bb095c9f6d199"
   }
  }
 },
 "nbformat": 4,
 "nbformat_minor": 2
}
